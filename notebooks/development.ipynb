{
 "cells": [
  {
   "cell_type": "code",
   "execution_count": 1,
   "metadata": {
    "collapsed": false
   },
   "outputs": [
    {
     "name": "stdout",
     "output_type": "stream",
     "text": [
      "Populating the interactive namespace from numpy and matplotlib\n"
     ]
    }
   ],
   "source": [
    "%pylab inline\n",
    "\n",
    "from __future__ import division, print_function\n",
    "from numpy import array, pi, exp, sqrt, log, max, argmin, cos, sin\n",
    "from scipy.interpolate import interp1d\n",
    "\n",
    "from aircraft_design import atmosphere, find_cl_max\n",
    "\n",
    "DEG2RAD = 0.017453292519943295"
   ]
  },
  {
   "cell_type": "markdown",
   "metadata": {},
   "source": [
    "#Aircraft Sizing, Synthesis and Integration Support Tool (ASSIST)\n",
    "\n",
    "##References\n",
    "* Mattingly, J. D., Heiser, W. H., and Daley, D. H., \"Aircraft Engine Design,\" AIAA Education Series, AIAA, New York, NY, 1987.\n",
    "* Raymer, D. P., \"Aircraft Design: A Conceptual Approach,\" 3rd ed., AIAA Education Series, AIAA, Reston, VA, 1999.\n",
    "* Roskam, J., \"Airplane Design: Part I-VIII.\" DARcorporation, Lawrence, KS, 2006."
   ]
  },
  {
   "cell_type": "code",
   "execution_count": 2,
   "metadata": {
    "collapsed": true
   },
   "outputs": [],
   "source": [
    "AR_VS_MACH = {'jet_trainer': [4.737, -0.979],\n",
    "              'jet_fighter': [5.416, -0.622],\n",
    "              'jet_attack':  [4.110, -0.622],\n",
    "              'mil_cargo':   [5.570, -1.075],\n",
    "              'bomber':      [5.570, -1.075],\n",
    "              'transport':   [7.500,  0.000]}"
   ]
  },
  {
   "cell_type": "code",
   "execution_count": 3,
   "metadata": {
    "collapsed": false
   },
   "outputs": [
    {
     "data": {
      "text/plain": [
       "1.7196940257353017"
      ]
     },
     "execution_count": 3,
     "metadata": {},
     "output_type": "execute_result"
    }
   ],
   "source": [
    "find_cl_max(flap_type='triple_slotted',\n",
    "            configuration='landing',\n",
    "            slats=True,\n",
    "            k_aero=0.75,\n",
    "            sweep=30,\n",
    "            flap_span=[0.2, 0.4],\n",
    "            taper_ratio=0.2)"
   ]
  },
  {
   "cell_type": "code",
   "execution_count": 2,
   "metadata": {
    "collapsed": true
   },
   "outputs": [],
   "source": [
    "class MissionSegment(object):\n",
    "    \"\"\"\n",
    "    Aircraft mission\n",
    "    \n",
    "    \"\"\"\n",
    "    WEIGHT_FRACTIONS = dict(warmup=0.99,\n",
    "                            taxi=0.99,\n",
    "                            takeoff=0.98,\n",
    "                            climb=0.95,\n",
    "                            descend=0.98,\n",
    "                            land=0.99)\n",
    "    \n",
    "    def __init__(self, name, speed, altitude,\n",
    "                 density_sl=0.002378,\n",
    "                 temperature_sl=516.17,\n",
    "                 g_0=32.2,\n",
    "                 *args, **kwargs):\n",
    "\n",
    "        self.name = name\n",
    "        if 'weight_fraction' not in kwargs and name in self.WEIGHT_FRACTIONS:\n",
    "            self.weight_fraction = self.WEIGHT_FRACTIONS[name]\n",
    "        else:\n",
    "            self.weight_fraction = kwargs.pop('weight_fraction', 1.0)\n",
    "        \n",
    "        self.altitude = altitude\n",
    "        \n",
    "        rho, temp, self.speed_of_sound = atmosphere(altitude, density_sl, temperature_sl)\n",
    "        self.density = rho if 'density' not in kwargs else kwargs['density']\n",
    "        self.temperature = temp if 'temperature' not in kwargs else kwargs['temperature']\n",
    "\n",
    "        if speed is not None:\n",
    "            self.speed = speed * 1.68780986  # kts to ft/s\n",
    "            self.mach = self.speed / self.speed_of_sound\n",
    "        \n",
    "        self.g_0 = g_0\n",
    "        self.n = 1\n",
    "        if 'turn_rate' in kwargs:\n",
    "            turn_rate = kwargs.pop('turn_rate')\n",
    "            self.n = sqrt(1 + (turn_rate * self.speed / g_0) ** 2)\n",
    "        if 'turn_radius' in kwargs:\n",
    "            turn_radius = kwargs.pop('turn_radius')\n",
    "            n = sqrt(1 + (self.speed / turn_radius / g_0) ** 2)\n",
    "            if hasattr(self, 'n'):\n",
    "                self.n = max(n, self.n)\n",
    "        \n",
    "        self.climb_rate = kwargs.pop('climb_rate', 0)\n",
    "        self.acceleration = kwargs.pop('acceleration', 0)\n",
    "        \n",
    "        self.dynamic_pressure = 0.5 * self.density * self.speed * self.speed\n",
    "        \n",
    "        if 'land' in self.name:\n",
    "            self.field_length = kwargs.pop('field_length', 6500)\n",
    "            self.approach_speed = sqrt(self.field_length / 0.3) * 6076.1154856 / 3600\n",
    "            \n",
    "\n",
    "        elif self.name == 'takeoff':\n",
    "            self.takeoff_ground_roll = kwargs.pop('takeoff_ground_roll', 1500)\n",
    "            self.obstacle_height = kwargs.pop('obstacle_height', 100)\n",
    "            \n",
    "    def cruise(self, aircraft, alpha, q, wing_loading, **kwargs):\n",
    "        return q * cd_0 / (alpha * wing_loading)\n",
    "    \n",
    "    def climb(self, alpha, beta, k_1, k_2, cd_0, cl, speed, climb_rate, **kwargs):\n",
    "        return (beta / alpha) * (k_1 * cl + k_2 + cd_0 / cl + climb_rate / speed)\n",
    "    \n",
    "    def turn(self, alpha, beta, k_1, k_2, cd_0, cl, n, **kwargs):\n",
    "        return (beta / alpha) * (k_1 * cl * n * n + k_2 * n + cd_0 / c_l)\n",
    "    \n",
    "    def land(self):\n",
    "        raise NotImplementedError()\n",
    "\n",
    "    def thrust_to_weight_required(self, aircraft, wing_loading):\n",
    "        cd_0 = aircraft.cd_0\n",
    "        k_1 = aircraft.k_1\n",
    "        k_2 = aircraft.k_2\n",
    "        # TODO: calculate C_DR as a function of mission segment\n",
    "        cd_r = aircraft.cd_r\n",
    "        \n",
    "        alpha = aircraft.thrust_lapse(self.altitude, self.mach)        \n",
    "        beta = self.weight_fraction\n",
    "        \n",
    "        if self.name == 'land':\n",
    "            aircraft.configuration = 'landing'\n",
    "            \n",
    "            wing_loading\n",
    "            \n",
    "        if self.name == 'takeoff':\n",
    "            aircraft.configuration = 'takeoff'\n",
    "            k_to = aircraft.k_to\n",
    "            return (beta * beta / alpha) * k_to * k_to * wing_loading / \\\n",
    "                   (self.takeoff_ground_roll * self.density * self.g_0 * aircraft.cl_max)\n",
    "            \n",
    "        aircraft.configuration = None\n",
    "        \n",
    "        q = self.dynamic_pressure\n",
    "        c_l = self.n * beta * wing_loading / q\n",
    "        excess_power = self.climb_rate / self.speed + self.acceleration / self.g_0\n",
    "        \n",
    "        return (beta / alpha) * (q / (beta * wing_loading) * (k_1 * c_l * c_l + k_2 * c_l + cd_0 + cd_r) + excess_power)"
   ]
  },
  {
   "cell_type": "code",
   "execution_count": 3,
   "metadata": {
    "collapsed": false
   },
   "outputs": [],
   "source": [
    "class Engine(object):\n",
    "    TYPES = dict(ATJ= {'alpha': [ 1, 1.00, 0.952, 0.30,  0.40,  2.0, 0.7], 'name': 'Advanced Turbo-Jet (with afterburner)'},\n",
    "                 ATP= {'alpha': [ 1, 0.12, 0.000, 1.00, -0.02, -1.0, 0.5], 'name': 'Advanced Turbo-Prop'},\n",
    "                 HBTF={'alpha': [-1, 1.00, 0.568, 0.25, -1.20,  3.0, 0.6], 'name': 'High By-Pass Turbo-Fan'},\n",
    "                 LBTF={'alpha': [ 1, 1.00, 0.940, 0.38,  0.40,  2.0, 0.7], 'name': 'Low By-Pass Turbo-Fan (with afterburner)'})\n",
    "    \n",
    "    def __init__(self, engine_type='ATJ',\n",
    "                 max_thrust=None,\n",
    "                 max_mach=None,\n",
    "                 afterburner=False,\n",
    "                 bpr=1.0,\n",
    "                 k_sfc=1.0,\n",
    "                 k_w=1.0,\n",
    "                 k_size=1.0, *args, **kwargs):\n",
    "        \n",
    "        self.engine_type = engine_type\n",
    "        self.afterburner = afterburner\n",
    "        self.bpr = bpr\n",
    "        self.k_sfc = k_sfc\n",
    "        self.k_w = k_w\n",
    "        self.k_size = k_size\n",
    "        \n",
    "        if bpr < 2.0 and engine_type == 'HBTF':\n",
    "            raise ValueError(\"High By-Pass Turbo-Fans must have by-pass ratios greater than 2.0, not {}\".format(self.bpr))\n",
    "        elif bpr > 2.0 and engine_type == 'LBTF':\n",
    "            raise ValueError(\"Low By-Pass Turbo-Fans must have by-pass ratios less than 2.0, not {}\".format(self.bpr))\n",
    "        \n",
    "        self.max_mach = max_mach\n",
    "        self.max_thrust = max_thrust\n",
    "\n",
    "        if engine_type not in self.TYPES:\n",
    "            raise ValueError(\"Engine type must be one of these {}, not {}\".format(self.TYPES.keys(), configuration))\n",
    "\n",
    "        self.alphas = self.TYPES[engine_type]['alpha']\n",
    "        self.name = self.TYPES[engine_type]['name']\n",
    "        \n",
    "    def __repr__(self):\n",
    "        return \"<{}>\".format(self.name)\n",
    "    \n",
    "    def size(self):\n",
    "        \"\"\"\n",
    "        Determines a jet engine's parameters based on Raymer's rules as defined in:\n",
    "\n",
    "        Raymer, D. P., \"Aircraft design: a conceptual approach\", 3rd Ed., pp. 235\n",
    "\n",
    "        .. note::\n",
    "            Cruise is assumed to be at approximately 36,000 ft (11,000 m) and 0.9 Mach\n",
    "        \n",
    "        \"\"\"\n",
    "        \n",
    "        if self.afterburner:\n",
    "            if self.bpr > 1.0:\n",
    "                raise(NotImplementedError(\"BPR must be less than 1.0 for afterburning engines, bpr = {}\".format(self.bpr)))\n",
    "            self.w = 0.063 * (self.max_thrust ** 1.1) * (self.max_mach ** 0.25) * exp(-0.81 * self.bpr)\n",
    "            self.l = 0.255 * (self.max_thrust ** 0.4) * (self.max_mach ** 0.2)\n",
    "            self.d = 0.024 * (self.max_thrust ** 0.5) * exp(0.04 * self.bpr)\n",
    "            self.sfc_max = 2.1 * exp(-0.12 * self.bpr)\n",
    "            self.t_cruise = 2.4 * (self.max_thrust ** 0.74) * exp(0.023 * self.bpr)\n",
    "            self.sfc_cruise = 1.04 * exp(-0.186 * self.bpr)\n",
    "        else:\n",
    "            self.w = 0.084 * (self.max_thrust ** 1.1) * exp(-0.045 * self.bpr)\n",
    "            self.l = 0.185 * (self.max_thrust ** 0.4) * (self.max_mach ** 0.2)\n",
    "            self.d = 0.033 * (self.max_thrust ** 0.5) * exp(0.04 * self.bpr)\n",
    "            self.sfc_max = 0.67 * exp(-0.12 * self.bpr)\n",
    "            self.t_cruise = 0.60 * (self.max_thrust ** 0.9) * exp(0.02 * self.bpr)\n",
    "            self.sfc_cruise = 0.88 * exp(-0.05 * self.bpr)\n",
    "\n",
    "    def thrust_lapse(self, altitude, mach):\n",
    "        a = self.alphas\n",
    "\n",
    "        density_ratio, _, _ = atmosphere(altitude, rho_sl=1)\n",
    "\n",
    "        return a[1] * (a[2] + a[3] * (a[0] * mach - a[4]) ** a[5]) * density_ratio ** a[6]"
   ]
  },
  {
   "cell_type": "code",
   "execution_count": 9,
   "metadata": {
    "collapsed": false
   },
   "outputs": [],
   "source": [
    "class Aircraft(object):\n",
    "    \"\"\"\n",
    "    \n",
    "    \n",
    "    :param sweep: sweep of the wing at the quarter-chord\n",
    "    :type sweep: list, tuple, float\n",
    "    \n",
    "    \"\"\"\n",
    "    \n",
    "    _CD_0 = {'jet_fighter': {'mach': [  0.0,   0.8,    0.9,    1.1,   1.2,   2.0],\n",
    "                             'min':  [0.014, 0.014, 0.0160, 0.0260, 0.028, 0.028],\n",
    "                             'max':  [0.018, 0.018, 0.0235, 0.0345, 0.040, 0.038]}}\n",
    "    \n",
    "    _K_1 = {'jet_fighter': {'mach':  [  0.0,   0.8,   1.0,   1.2,   2.0],\n",
    "                            'min':   [0.180, 0.180, 0.180, 0.216, 0.360],\n",
    "                            'max':   [0.140, 0.140, 0.170, 0.200, 0.500]}}\n",
    "    \n",
    "    CONFIGURATIONS = ('takeoff', 'landing')\n",
    "    \n",
    "    CL_MAX = {'plain':          {'takeoff': [1.4, 1.6], 'landing': [1.7, 2.0]},\n",
    "              'single_slot':    {'takeoff': [1.5, 1.7], 'landing': [1.8, 2.2]},\n",
    "              'fowler':         {'takeoff': [2.0, 2.2], 'landing': [2.5, 2.9]},\n",
    "              'double_slotted': {'takeoff': [1.7, 2.0], 'landing': [2.3, 2.7]},\n",
    "              'triple_slotted': {'takeoff': [1.8, 2.1], 'landing': [2.7, 3.0]},\n",
    "              'slat':           {'takeoff': 0.6,        'landing': 0.5}}\n",
    "    \n",
    "    def __init__(self, \n",
    "                 aircraft_type='jet_fighter',\n",
    "                 configuration=None,\n",
    "                 engine='ATJ',\n",
    "                 num_engines=1,\n",
    "                 flaps='plain',\n",
    "                 slats=False,\n",
    "                 cd_r=0.005,\n",
    "                 k_aero=0.5,\n",
    "                 k_2=0.003,\n",
    "                 k_to=1.1,\n",
    "                 ar=8,\n",
    "                 sweep=30,\n",
    "                 *args, **kwargs):\n",
    "\n",
    "        self.type = aircraft_type\n",
    "        self.configuration = configuration\n",
    "        self.flaps = flaps\n",
    "        self.engine = Engine(engine) if isinstance(engine, basestring) else engine\n",
    "        self.num_engines = num_engines\n",
    "        \n",
    "        self.k_aero = k_aero\n",
    "        self.ar = ar\n",
    "        self._cd_0 = kwargs.pop('cd_0', None)\n",
    "        self._cl_max = kwargs.pop('cl_max', None)\n",
    "        self.cd_r = cd_r\n",
    "        \n",
    "        self._k_1 = kwargs.pop('k_1', None)\n",
    "        self.k_2 = k_2\n",
    "        \n",
    "        if self._cd_0 is None and aircraft_type in self._CD_0:\n",
    "            self._cd_0_min = interp1d(self._CD_0[aircraft_type]['mach'], self._CD_0[aircraft_type]['min'])\n",
    "            self._cd_0_max = interp1d(self._CD_0[aircraft_type]['mach'], self._CD_0[aircraft_type]['max'])\n",
    "        else:\n",
    "            self._cd_0 = 0.02\n",
    "            \n",
    "        if self._k_1 is None and aircraft_type in self._K_1:\n",
    "            self._k_1_min = interp1d(self._K_1[aircraft_type]['mach'], self._K_1[aircraft_type]['min'])\n",
    "            self._k_1_max = interp1d(self._K_1[aircraft_type]['mach'], self._K_1[aircraft_type]['max'])\n",
    "        else:\n",
    "            self._k_1 = 0.16\n",
    "        \n",
    "        self.k_to = k_to\n",
    "        self._sweep = sweep\n",
    "        self.variable_sweep = hasattr(sweep, '__iter__')\n",
    "        self.thrust_lapse = self.engine.thrust_lapse\n",
    "        \n",
    "    @property\n",
    "    def cd_0(self):\n",
    "        if self._cd_0 is not None:\n",
    "            return self._cd_0\n",
    "        else:\n",
    "            if getattr(self, 'mach', None) is None:\n",
    "                raise AttributeError(\"Must set the mach number\")\n",
    "            min_cd_0 = self._cd_0_min(self.mach)\n",
    "            max_cd_0 = self._cd_0_max(self.mach)\n",
    "            return min_cd_0 + (max_cd_0 - min_cd_0) * (1 - self.k_aero)\n",
    "        \n",
    "    @property\n",
    "    def k_1(self):\n",
    "        if self._k_1 is not None:\n",
    "            return self._k_1\n",
    "        else:\n",
    "            if getattr(self, 'mach', None) is None:\n",
    "                raise AttributeError(\"Must set the mach number\")\n",
    "            min_k_1 = self._k_1_min(self.mach)\n",
    "            max_k_1 = self._k_1_max(self.mach)\n",
    "            return min_k_1 + (max_k_1 - min_k_1) * (1 - self.k_aero)\n",
    "            \n",
    "    @property\n",
    "    def sweep(self):\n",
    "        if hasattr(self._sweep, '__iter__'):\n",
    "            raise NotImplementedError(\"Implement variable sweep function\")\n",
    "        else:\n",
    "            return self._sweep\n",
    "        \n",
    "    @property\n",
    "    def cl_max(self):\n",
    "        if self._cl_max is not None:\n",
    "            return self._cl_max\n",
    "        if self.configuration in self.CONFIGURATIONS:\n",
    "            cl_min, cl_max = self.CL_MAX[self.flaps][self.configuration]\n",
    "            \n",
    "            return (cl_min + (cl_max - cl_min) * self.k_aero) * cos(self.sweep * DEG2RAD)\n",
    "        \n",
    "        raise ValueError(\"Configuration must be one of {} not {}\".format(self.CONFIGURATIONS, self.configuration))\n",
    "\n",
    "    def synthesis(self, segments, wing_loading=None):\n",
    "        \"\"\"\n",
    "        Identifies a design point for a mission\n",
    "        \n",
    "        \"\"\"\n",
    "        \n",
    "        wing_loadings = array(range(10, 300))\n",
    "        thrust_loadings = []\n",
    "        \n",
    "        self.max_mach = 0\n",
    "        for segment in segments:\n",
    "            if segment.mach > self.max_mach:\n",
    "                self.max_mach = segment.mach\n",
    "                self.mach = segment.mach\n",
    "            weight_fraction = thrust_loadings.append(\n",
    "                                  segment.thrust_to_weight_required(\n",
    "                                      aircraft=self,\n",
    "                                      wing_loading=wing_loadings,\n",
    "                                      weight_fraction=weight_fraction\n",
    "                                      )\n",
    "                                  )\n",
    "        \n",
    "        self.t_to_w_req = max(array(zip(*thrust_loadings)), 1)\n",
    "        idx = argmin(self.t_to_w_req)\n",
    "        \n",
    "        self.t_to_w = self.t_to_w_req[idx]\n",
    "        self.w_to_s = wing_loadings[idx]\n",
    "        \n",
    "    def size(self, segments, w_to=(1000, 60000), tol=10):\n",
    "        \"\"\"\n",
    "        Sizes the aircraft for a given mission\n",
    "        \n",
    "        Empty Weight Fraction (we_to_w0) based on (Raymer, 1999) pp. 115\n",
    "        \n",
    "        \"\"\"\n",
    "        \n",
    "        if hasattr(w_to, '__iter__'):\n",
    "            w_to = array(range(w_to[0], w_to[1], tol))\n",
    "        \n",
    "        # Empty weight coefficients\n",
    "        coefficients = {'jet_trainer':   ( 0.00, 4.28, -0.10, 0.10, 0.20, -0.24, 0.11),\n",
    "                        'jet_fighter':   (-0.02, 2.16, -0.10, 0.20, 0.04, -0.10, 0.08),\n",
    "                        'mil_cargo':     ( 0.07, 1.71, -0.10, 0.10, 0.06, -0.10, 0.05),\n",
    "                        'bomber':        ( 0.07, 1.71, -0.10, 0.10, 0.06, -0.10, 0.05),\n",
    "                        'jet_transport': ( 0.32, 0.66, -0.13, 0.30, 0.06, -0.05, 0.05)}\n",
    "        \n",
    "        if self.type not in coefficients:\n",
    "            raise NotImplementedError(\"Aircraft type '{}' not implemented, \" +\n",
    "                                      \"only these have been implemented: {}\".format(self.type, coefficients.keys()))\n",
    "            \n",
    "        a, b, c1, c2, c3, c4, c5 = coefficients[self.type]\n",
    "        k_vs = 1.04 if self.variable_sweep else 1.0\n",
    "        \n",
    "        we_to_w0 = (a + b * w_to ** c1 * \\\n",
    "                            self.ar ** c2 * \\\n",
    "                            self.t_to_w ** c3 * \\\n",
    "                            self.w_to_s ** c4 * \\\n",
    "                            self.max_mach ** c5) * k_vs\n",
    "        \n",
    "        self.engine.max_mach = self.max_mach\n",
    "        self.engine.max_thrust = self.t_to_w * w_to / self.num_engines\n",
    "        self.wing_area = w_to / self.w_to_s\n",
    "        \n",
    "        for segment in segments:\n",
    "            pass\n",
    "        \n",
    "        return we_to_w0"
   ]
  },
  {
   "cell_type": "code",
   "execution_count": 10,
   "metadata": {
    "collapsed": false
   },
   "outputs": [],
   "source": [
    "ac = Aircraft(cd_0=0.02)\n",
    "\n",
    "mission = [MissionSegment('takeoff', altitude=5000, speed=150, takeoff_ground_roll=1000, temperature_sl=100),\n",
    "           MissionSegment('climb', altitude=30000, speed=500),\n",
    "           MissionSegment('cruise', altitude=30000, speed=1050),\n",
    "           MissionSegment('descend', altitude=5000, speed=1000),\n",
    "           MissionSegment('dash', altitude=5000, speed=1600),\n",
    "           MissionSegment('climb', altitude=30000, speed=1000),\n",
    "           MissionSegment('cruise', altitude=30000, speed=5000),\n",
    "           MissionSegment('descend', altitude=5000, speed=1000),\n",
    "           MissionSegment('land', altitude=5000, speed=150)]"
   ]
  },
  {
   "cell_type": "code",
   "execution_count": 11,
   "metadata": {
    "collapsed": false
   },
   "outputs": [
    {
     "name": "stdout",
     "output_type": "stream",
     "text": [
      "Automatic pdb calling has been turned ON\n"
     ]
    }
   ],
   "source": [
    "%pdb on\n",
    "ac.synthesis(mission)\n"
   ]
  },
  {
   "cell_type": "code",
   "execution_count": 12,
   "metadata": {
    "collapsed": false
   },
   "outputs": [
    {
     "data": {
      "text/plain": [
       "[<matplotlib.lines.Line2D at 0x1390b940>]"
      ]
     },
     "execution_count": 12,
     "metadata": {},
     "output_type": "execute_result"
    },
    {
     "data": {
      "image/png": "[encoded data removed]",
      "text/plain": [
       "<matplotlib.figure.Figure at 0xa7f9898>"
      ]
     },
     "metadata": {},
     "output_type": "display_data"
    }
   ],
   "source": [
    "plot(ac.t_to_w_req)"
   ]
  },
  {
   "cell_type": "code",
   "execution_count": 13,
   "metadata": {
    "collapsed": false
   },
   "outputs": [
    {
     "data": {
      "text/plain": [
       "[<matplotlib.lines.Line2D at 0x13bb7438>]"
      ]
     },
     "execution_count": 13,
     "metadata": {},
     "output_type": "execute_result"
    },
    {
     "data": {
      "image/png": "[encoded data removed]",
      "text/plain": [
       "<matplotlib.figure.Figure at 0x1390bf28>"
      ]
     },
     "metadata": {},
     "output_type": "display_data"
    }
   ],
   "source": [
    "plot(ac.size(mission))"
   ]
  },
  {
   "cell_type": "code",
   "execution_count": 15,
   "metadata": {
    "collapsed": false
   },
   "outputs": [
    {
     "data": {
      "text/plain": [
       "6.185484200891787"
      ]
     },
     "execution_count": 15,
     "metadata": {},
     "output_type": "execute_result"
    }
   ],
   "source": [
    "ac.engine.max_mach"
   ]
  },
  {
   "cell_type": "code",
   "execution_count": 10,
   "metadata": {
    "collapsed": false
   },
   "outputs": [
    {
     "data": {
      "text/plain": [
       "{'afterburner': False,\n",
       " 'alphas': [1, 1.0, 0.952, 0.3, 0.4, 2.0, 0.7],\n",
       " 'bpr': 1.0,\n",
       " 'engine_type': 'ATJ',\n",
       " 'k_sfc': 1.0,\n",
       " 'k_size': 1.0,\n",
       " 'k_w': 1.0,\n",
       " 'max_mach': 6.185484200891787,\n",
       " 'max_thrust': 6705.5203448617995,\n",
       " 'name': 'Advanced Turbo-Jet (with afterburner)'}"
      ]
     },
     "execution_count": 10,
     "metadata": {},
     "output_type": "execute_result"
    }
   ],
   "source": [
    "ac.engine.__dict__"
   ]
  },
  {
   "cell_type": "code",
   "execution_count": null,
   "metadata": {
    "collapsed": true
   },
   "outputs": [],
   "source": []
  }
 ],
 "metadata": {
  "kernelspec": {
   "display_name": "Python 2",
   "language": "python",
   "name": "python2"
  },
  "language_info": {
   "codemirror_mode": {
    "name": "ipython",
    "version": 2
   },
   "file_extension": ".py",
   "mimetype": "text/x-python",
   "name": "python",
   "nbconvert_exporter": "python",
   "pygments_lexer": "ipython2",
   "version": "2.7.10"
  }
 },
 "nbformat": 4,
 "nbformat_minor": 0
}
