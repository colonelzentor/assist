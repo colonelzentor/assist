{
 "cells": [
  {
   "cell_type": "code",
   "execution_count": null,
   "metadata": {
    "collapsed": true
   },
   "outputs": [],
   "source": [
    "try:\n",
    "    import assist\n",
    "except ImportError:\n",
    "    from os.path import abspath\n",
    "    from sys import path\n",
    "    assist_path = abspath('..')\n",
    "    if assist_path not in path:\n",
    "        path.append(assist_path)\n",
    "    import assist\n",
    "    del assist_path, abspath\n",
    "    \n",
    "del assist"
   ]
  },
  {
   "cell_type": "code",
   "execution_count": null,
   "metadata": {
    "collapsed": false
   },
   "outputs": [],
   "source": [
    "%pylab inline\n",
    "from __future__ import division, print_function\n",
    "\n",
    "from assist.environment import Atmosphere\n",
    "from assist.aircraft import Aircraft\n",
    "from assist.component import Wing, Engine, Payload\n",
    "from assist.mission import Mission, Segment"
   ]
  },
  {
   "cell_type": "markdown",
   "metadata": {},
   "source": [
    "#Aircraft Sizing, Synthesis and Integration Support Tool (ASSIST)\n",
    "\n",
    "##References\n",
    "* Mattingly, J. D., Heiser, W. H., and Daley, D. H., \"Aircraft Engine Design,\" AIAA Education Series, AIAA, New York, NY, 1987.\n",
    "* Raymer, D. P., \"Aircraft Design: A Conceptual Approach,\" 3rd ed., AIAA Education Series, AIAA, Reston, VA, 1999.\n",
    "* Roskam, J., \"Airplane Design: Part I-VIII.\" DARcorporation, Lawrence, KS, 2006."
   ]
  },
  {
   "cell_type": "code",
   "execution_count": null,
   "metadata": {
    "collapsed": false
   },
   "outputs": [],
   "source": [
    "wing = Wing(flap_type='single_slot',\n",
    "            configuration='landing',\n",
    "            slats=True,\n",
    "            k_aero=0.75,\n",
    "            sweep=30,\n",
    "            flap_span=[0.2, 0.4],\n",
    "            taper_ratio=0.2)\n",
    "\n",
    "wing.takeoff\n",
    "print(\"TAKE-OFF CL_max:\", wing.cl_max)\n",
    "wing.landing\n",
    "print(\"LANDING CL_max:\", wing.cl_max)"
   ]
  },
  {
   "cell_type": "code",
   "execution_count": null,
   "metadata": {
    "collapsed": false
   },
   "outputs": [],
   "source": [
    "from numpy import power, array, divide, float\n",
    "density = 0.002047\n",
    "k_to = 1.2\n",
    "cl_max = 1.45\n",
    "time_rotation = 3\n",
    "t_to_w = linspace(0.01, 2.0, 200)\n",
    "tofl = 1500\n",
    "beta = 1.0\n",
    "G_0 = 32.17\n",
    "alpha = 1.0\n",
    "\n",
    "a = k_to * k_to * beta * beta / (density * G_0 * cl_max * alpha * t_to_w)\n",
    "b = time_rotation * k_to * sqrt(2 * beta / (density * cl_max))\n",
    "c = tofl\n",
    "\n",
    "w_to_s = power((-b + sqrt(b * b + 4 * a * c)) / (2 * a), 2)"
   ]
  },
  {
   "cell_type": "code",
   "execution_count": null,
   "metadata": {
    "collapsed": false
   },
   "outputs": [],
   "source": [
    "aircraft = Aircraft(wing=wing,\n",
    "                    stores=[Payload('Crew', weight=200),\n",
    "                            Payload('Cannon', weight=270),\n",
    "                            Payload('Ammunition Feed System', weight=405),\n",
    "                            Payload('Ammunition', weight=550),\n",
    "                            Payload('Casings', weight=198),\n",
    "                            Payload('AMRAAMs', weight=332, quantity=4, cd_r=0.005, expendable=True),\n",
    "                            Payload('AIM-9Xs', weight=188, quantity=2, cd_r=0.002, expendable=True)],\n",
    "                    drag_chute=None)#{'diameter': 15.6, 'cd': 1.4})\n",
    "\n",
    "tofl = 1500\n",
    "airfield_altitude = 0\n",
    "\n",
    "cruise_altitude = 30000\n",
    "cruise_range = 150\n",
    "\n",
    "dash_altitude = 30000\n",
    "dash_speed = 1492\n",
    "dash_range = 100\n",
    "\n",
    "ldgfl = 1500\n",
    "landing_speed = 150\n",
    "\n",
    "mission = Mission(segments=[Segment('warmup',\n",
    "                                    altitude=airfield_altitude,\n",
    "                                    speed=0,\n",
    "                                    time=60),\n",
    "                            Segment('takeoff',\n",
    "                                    altitude=airfield_altitude,\n",
    "                                    speed=150,\n",
    "                                    field_length=tofl,\n",
    "                                    temperature=100),\n",
    "                            Segment('climb',\n",
    "                                    altitude=airfield_altitude,\n",
    "                                    speed=500),\n",
    "                            Segment('cruise',\n",
    "                                    altitude=cruise_altitude,\n",
    "                                    speed=1492,\n",
    "                                    range=cruise_range,\n",
    "                                    release=[()]),\n",
    "                            Segment('descend',\n",
    "                                    altitude=dash_altitude,\n",
    "                                    speed=1000),\n",
    "                            Segment('dash',\n",
    "                                    altitude=dash_altitude,\n",
    "                                    speed=dash_speed,\n",
    "                                    range=dash_range),\n",
    "                            Segment('climb',\n",
    "                                    altitude=cruise_altitude,\n",
    "                                    speed=1000),\n",
    "                            Segment('cruise',\n",
    "                                    altitude=cruise_altitude,\n",
    "                                    speed=1050,\n",
    "                                    range=cruise_range),\n",
    "                            Segment('descend',\n",
    "                                    altitude=airfield_altitude,\n",
    "                                    speed=1000),\n",
    "                            Segment('land',\n",
    "                                    altitude=airfield_altitude,\n",
    "                                    speed=landing_speed,\n",
    "                                    field_length=ldgfl)])"
   ]
  },
  {
   "cell_type": "code",
   "execution_count": null,
   "metadata": {
    "collapsed": false
   },
   "outputs": [],
   "source": [
    "%pdb on\n",
    "aircraft._synthesize(mission)"
   ]
  },
  {
   "cell_type": "code",
   "execution_count": null,
   "metadata": {
    "collapsed": true
   },
   "outputs": [],
   "source": [
    "aircraft._k_1"
   ]
  },
  {
   "cell_type": "code",
   "execution_count": null,
   "metadata": {
    "collapsed": false
   },
   "outputs": [],
   "source": [
    "fig = figure(figsize=(16, 8))\n",
    "w_s = aircraft._synthesis['w_to_s']\n",
    "t_w = aircraft._synthesis['t_to_w']\n",
    "for t in t_w:\n",
    "    plot(w_s, t)\n",
    "    legend([segment.kind for segment in mission.segments])\n",
    "    \n",
    "axis([0, 300, 0, 3.5]);"
   ]
  },
  {
   "cell_type": "code",
   "execution_count": null,
   "metadata": {
    "collapsed": false
   },
   "outputs": [],
   "source": [
    "fig = figure(figsize=(16, 8))\n",
    "ax = plot(aircraft.t_to_w_req)\n",
    "axis([0, 300, 0, 5])"
   ]
  },
  {
   "cell_type": "code",
   "execution_count": null,
   "metadata": {
    "collapsed": false
   },
   "outputs": [],
   "source": [
    "aircraft.fuel_fraction"
   ]
  },
  {
   "cell_type": "code",
   "execution_count": null,
   "metadata": {
    "collapsed": false
   },
   "outputs": [],
   "source": [
    "aircraft._size(mission)"
   ]
  },
  {
   "cell_type": "markdown",
   "metadata": {},
   "source": [
    "# Aircraft Dimensions"
   ]
  },
  {
   "cell_type": "code",
   "execution_count": null,
   "metadata": {
    "collapsed": false
   },
   "outputs": [],
   "source": [
    "# Takeoff Gross Weight\n",
    "aircraft.w_to"
   ]
  },
  {
   "cell_type": "markdown",
   "metadata": {},
   "source": [
    "# Engine Dimensions"
   ]
  },
  {
   "cell_type": "code",
   "execution_count": null,
   "metadata": {
    "collapsed": false
   },
   "outputs": [],
   "source": [
    "array([[1,2],[2,3]])[0]"
   ]
  },
  {
   "cell_type": "code",
   "execution_count": null,
   "metadata": {
    "collapsed": false
   },
   "outputs": [],
   "source": [
    "aircraft.engine.size()\n",
    "aircraft.engine.__dict__"
   ]
  },
  {
   "cell_type": "code",
   "execution_count": null,
   "metadata": {
    "collapsed": true
   },
   "outputs": [],
   "source": [
    "aircraft._k_1 = None"
   ]
  },
  {
   "cell_type": "code",
   "execution_count": null,
   "metadata": {
    "collapsed": false
   },
   "outputs": [],
   "source": [
    "aircraft.best_cruise"
   ]
  }
 ],
 "metadata": {
  "kernelspec": {
   "display_name": "Python 2",
   "language": "python",
   "name": "python2"
  },
  "language_info": {
   "codemirror_mode": {
    "name": "ipython",
    "version": 2
   },
   "file_extension": ".py",
   "mimetype": "text/x-python",
   "name": "python",
   "nbconvert_exporter": "python",
   "pygments_lexer": "ipython2",
   "version": "2.7.10"
  }
 },
 "nbformat": 4,
 "nbformat_minor": 0
}
