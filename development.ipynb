{
 "cells": [
  {
   "cell_type": "code",
   "execution_count": null,
   "metadata": {
    "collapsed": false
   },
   "outputs": [],
   "source": [
    "%pylab inline\n",
    "\n",
    "from __future__ import division, print_function\n",
    "\n",
    "from assist.environment import Atmosphere\n",
    "from assist.aircraft import Aircraft, Wing, Engine\n",
    "from assist.mission import Segment\n",
    "\n",
    "DEG2RAD = 0.017453292519943295"
   ]
  },
  {
   "cell_type": "markdown",
   "metadata": {},
   "source": [
    "#Aircraft Sizing, Synthesis and Integration Support Tool (ASSIST)\n",
    "\n",
    "##References\n",
    "* Mattingly, J. D., Heiser, W. H., and Daley, D. H., \"Aircraft Engine Design,\" AIAA Education Series, AIAA, New York, NY, 1987.\n",
    "* Raymer, D. P., \"Aircraft Design: A Conceptual Approach,\" 3rd ed., AIAA Education Series, AIAA, Reston, VA, 1999.\n",
    "* Roskam, J., \"Airplane Design: Part I-VIII.\" DARcorporation, Lawrence, KS, 2006."
   ]
  },
  {
   "cell_type": "code",
   "execution_count": null,
   "metadata": {
    "collapsed": false
   },
   "outputs": [],
   "source": [
    "wing = Wing(flap_type='single_slot',\n",
    "            configuration='landing',\n",
    "            slats=True,\n",
    "            k_aero=0.75,\n",
    "            sweep=30,\n",
    "            flap_span=[0.2, 0.4],\n",
    "            taper_ratio=0.2)"
   ]
  },
  {
   "cell_type": "code",
   "execution_count": null,
   "metadata": {
    "collapsed": false
   },
   "outputs": [],
   "source": [
    "wing.takeoff\n",
    "print(\"TAKE-OFF CL_max:\", wing.cl_max)\n",
    "wing.landing\n",
    "print(\"LANDING CL_max:\", wing.cl_max)"
   ]
  },
  {
   "cell_type": "code",
   "execution_count": null,
   "metadata": {
    "collapsed": false
   },
   "outputs": [],
   "source": [
    "aircraft = Aircraft(cd_0=0.02)\n",
    "\n",
    "mission = [Segment('takeoff', altitude=5000, speed=150, takeoff_ground_roll=1000, temperature_sl=100),\n",
    "           Segment('climb', altitude=35000, speed=500),\n",
    "           Segment('cruise', altitude=35000, speed=1050, range=500),\n",
    "           Segment('descend', altitude=5000, speed=1000),\n",
    "           Segment('dash', altitude=5000, speed=1600, range=100),\n",
    "           Segment('climb', altitude=35000, speed=1000),\n",
    "           Segment('cruise', altitude=35000, speed=1050, range=500),\n",
    "           Segment('descend', altitude=5000, speed=1000),\n",
    "           Segment('land', altitude=5000, speed=150, ldgfl=2500)]"
   ]
  },
  {
   "cell_type": "code",
   "execution_count": null,
   "metadata": {
    "collapsed": false
   },
   "outputs": [],
   "source": [
    "aircraft.synthesize(mission)"
   ]
  },
  {
   "cell_type": "code",
   "execution_count": null,
   "metadata": {
    "collapsed": false
   },
   "outputs": [],
   "source": [
    "plot(aircraft.t_to_w_req)"
   ]
  },
  {
   "cell_type": "code",
   "execution_count": null,
   "metadata": {
    "collapsed": false
   },
   "outputs": [],
   "source": [
    "aircraft.fuel_fraction"
   ]
  },
  {
   "cell_type": "code",
   "execution_count": null,
   "metadata": {
    "collapsed": false
   },
   "outputs": [],
   "source": [
    "plot(aircraft.size(mission))"
   ]
  }
 ],
 "metadata": {
  "kernelspec": {
   "display_name": "Python 2",
   "language": "python",
   "name": "python2"
  },
  "language_info": {
   "codemirror_mode": {
    "name": "ipython",
    "version": 2
   },
   "file_extension": ".py",
   "mimetype": "text/x-python",
   "name": "python",
   "nbconvert_exporter": "python",
   "pygments_lexer": "ipython2",
   "version": "2.7.10"
  }
 },
 "nbformat": 4,
 "nbformat_minor": 0
}
