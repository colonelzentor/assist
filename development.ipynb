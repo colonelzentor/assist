{
 "cells": [
  {
   "cell_type": "code",
   "execution_count": 1,
   "metadata": {
    "collapsed": false
   },
   "outputs": [
    {
     "name": "stdout",
     "output_type": "stream",
     "text": [
      "Populating the interactive namespace from numpy and matplotlib\n"
     ]
    }
   ],
   "source": [
    "%pylab inline\n",
    "\n",
    "from __future__ import division, print_function\n",
    "\n",
    "from assist.environment import Atmosphere\n",
    "from assist.aircraft import Aircraft\n",
    "from assist.component import Wing, Engine, Payload\n",
    "from assist.mission import Segment"
   ]
  },
  {
   "cell_type": "markdown",
   "metadata": {},
   "source": [
    "#Aircraft Sizing, Synthesis and Integration Support Tool (ASSIST)\n",
    "\n",
    "##References\n",
    "* Mattingly, J. D., Heiser, W. H., and Daley, D. H., \"Aircraft Engine Design,\" AIAA Education Series, AIAA, New York, NY, 1987.\n",
    "* Raymer, D. P., \"Aircraft Design: A Conceptual Approach,\" 3rd ed., AIAA Education Series, AIAA, Reston, VA, 1999.\n",
    "* Roskam, J., \"Airplane Design: Part I-VIII.\" DARcorporation, Lawrence, KS, 2006."
   ]
  },
  {
   "cell_type": "code",
   "execution_count": 2,
   "metadata": {
    "collapsed": false
   },
   "outputs": [
    {
     "name": "stdout",
     "output_type": "stream",
     "text": [
      "TAKE-OFF CL_max: 1.53541158088\n",
      "LANDING CL_max: 1.54698088235\n"
     ]
    }
   ],
   "source": [
    "wing = Wing(flap_type='single_slot',\n",
    "            configuration='landing',\n",
    "            slats=True,\n",
    "            k_aero=0.75,\n",
    "            sweep=30,\n",
    "            flap_span=[0.2, 0.4],\n",
    "            taper_ratio=0.2)\n",
    "\n",
    "wing.takeoff\n",
    "print(\"TAKE-OFF CL_max:\", wing.cl_max)\n",
    "wing.landing\n",
    "print(\"LANDING CL_max:\", wing.cl_max)"
   ]
  },
  {
   "cell_type": "code",
   "execution_count": 3,
   "metadata": {
    "collapsed": false
   },
   "outputs": [],
   "source": [
    "aircraft = Aircraft(wing=wing,\n",
    "                    stores=[Payload('Crew', 200),\n",
    "                            Payload('Cannon', 270),\n",
    "                            Payload('Ammunition Feed System', 405),\n",
    "                            Payload('Ammunition', 550),\n",
    "                            Payload('Casings', 198),\n",
    "                            Payload('AMRAAMs', 652),\n",
    "                            Payload('AIM-9Xs', 382)],\n",
    "                    cd_0=0.02)\n",
    "\n",
    "tofl = 1500\n",
    "airfield_altitude = 5000\n",
    "\n",
    "cruise_altitude = 35000\n",
    "cruise_range = 500\n",
    "\n",
    "dash_altitude = 4000\n",
    "dash_speed = 1500\n",
    "dash_range = 100\n",
    "\n",
    "ldgfl = 3500\n",
    "landing_speed = 150\n",
    "\n",
    "mission = Mission(segments=[Segment('warmup',\n",
    "                                    altitude=airfield_altitude,\n",
    "                                    speed=0,\n",
    "                                    time=60),\n",
    "                            Segment('takeoff',\n",
    "                                    altitude=airfield_altitude,\n",
    "                                    speed=150,\n",
    "                                    tofl=tofl,\n",
    "                                    k_to=1.2,\n",
    "                                    afterburner=True,\n",
    "                                    mu_to=0.05,\n",
    "                                    temperature_sl=100),\n",
    "                            Segment('climb',\n",
    "                                    altitude=airfield_altitude,\n",
    "                                    speed=500),\n",
    "                            Segment('cruise',\n",
    "                                    altitude=cruise_altitude,\n",
    "                                    speed=1050,\n",
    "                                    range=cruise_range,\n",
    "                                    release=[()]),\n",
    "                            Segment('descend',\n",
    "                                    altitude=dash_altitude,\n",
    "                                    speed=1000),\n",
    "                            Segment('dash',\n",
    "                                    altitude=dash_altitude,\n",
    "                                    speed=dash_speed,\n",
    "                                    range=dash_range),\n",
    "                            Segment('climb',\n",
    "                                    altitude=cruise_altitude,\n",
    "                                    speed=1000),\n",
    "                            Segment('cruise',\n",
    "                                    altitude=cruise_altitude,\n",
    "                                    speed=1050,\n",
    "                                    range=cruise_range),\n",
    "                            Segment('descend',\n",
    "                                    altitude=airfield_altitude,\n",
    "                                    speed=1000),\n",
    "                            Segment('land',\n",
    "                                    altitude=airfield_altitude,\n",
    "                                    speed=landing_speed,\n",
    "                                    ldgfl=ldgfl)])"
   ]
  },
  {
   "cell_type": "code",
   "execution_count": 4,
   "metadata": {
    "collapsed": false
   },
   "outputs": [
    {
     "name": "stdout",
     "output_type": "stream",
     "text": [
      "Segment warmup has a weight fraction of 0.99\n",
      "Segment takeoff has a weight fraction of 0.98\n",
      "Segment climb has a weight fraction of 0.95\n",
      "Segment cruise has a weight fraction of 0.456878837121\n",
      "Segment descend has a weight fraction of 0.98\n",
      "Segment dash has a weight fraction of 0.516241523889\n",
      "Segment climb has a weight fraction of 0.95\n",
      "Segment cruise has a weight fraction of 0.93795447445\n",
      "Segment descend has a weight fraction of 0.98\n",
      "Segment land has a weight fraction of 0.99\n"
     ]
    }
   ],
   "source": [
    "aircraft.synthesize(mission)"
   ]
  },
  {
   "cell_type": "code",
   "execution_count": 5,
   "metadata": {
    "collapsed": false
   },
   "outputs": [
    {
     "data": {
      "text/plain": [
       "[0, 300, 0, 2]"
      ]
     },
     "execution_count": 5,
     "metadata": {},
     "output_type": "execute_result"
    },
    {
     "data": {
      "image/png": "[encoded data removed]",
      "text/plain": [
       "<matplotlib.figure.Figure at 0x3cdad30>"
      ]
     },
     "metadata": {},
     "output_type": "display_data"
    }
   ],
   "source": [
    "fig = figure(figsize=(16,8))\n",
    "ax = plot(aircraft.t_to_w_req)\n",
    "axis([0, 300, 0, 2])"
   ]
  },
  {
   "cell_type": "code",
   "execution_count": 6,
   "metadata": {
    "collapsed": false
   },
   "outputs": [
    {
     "data": {
      "text/plain": [
       "0.815824625245255"
      ]
     },
     "execution_count": 6,
     "metadata": {},
     "output_type": "execute_result"
    }
   ],
   "source": [
    "aircraft.fuel_fraction"
   ]
  },
  {
   "cell_type": "code",
   "execution_count": 7,
   "metadata": {
    "collapsed": false
   },
   "outputs": [],
   "source": [
    "aircraft.size(mission)"
   ]
  },
  {
   "cell_type": "code",
   "execution_count": 10,
   "metadata": {
    "collapsed": false
   },
   "outputs": [
    {
     "data": {
      "text/plain": [
       "1.1305671326687288"
      ]
     },
     "execution_count": 10,
     "metadata": {},
     "output_type": "execute_result"
    }
   ],
   "source": [
    "aircraft.t_to_w"
   ]
  },
  {
   "cell_type": "code",
   "execution_count": 9,
   "metadata": {
    "collapsed": false
   },
   "outputs": [
    {
     "data": {
      "text/plain": [
       "22285.633331611076"
      ]
     },
     "execution_count": 9,
     "metadata": {},
     "output_type": "execute_result"
    }
   ],
   "source": [
    "aircraft.engine.max_thrust"
   ]
  }
 ],
 "metadata": {
  "kernelspec": {
   "display_name": "Python 2",
   "language": "python",
   "name": "python2"
  },
  "language_info": {
   "codemirror_mode": {
    "name": "ipython",
    "version": 2
   },
   "file_extension": ".py",
   "mimetype": "text/x-python",
   "name": "python",
   "nbconvert_exporter": "python",
   "pygments_lexer": "ipython2",
   "version": "2.7.10"
  }
 },
 "nbformat": 4,
 "nbformat_minor": 0
}
