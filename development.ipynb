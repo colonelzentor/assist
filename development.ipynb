{
 "cells": [
  {
   "cell_type": "code",
   "execution_count": null,
   "metadata": {
    "collapsed": false
   },
   "outputs": [],
   "source": [
    "%pylab inline\n",
    "\n",
    "from __future__ import division, print_function\n",
    "\n",
    "from assist.environment import Atmosphere\n",
    "from assist.aircraft import Aircraft, Wing, Engine, Payload\n",
    "from assist.mission import Segment\n",
    "\n",
    "DEG2RAD = 0.017453292519943295"
   ]
  },
  {
   "cell_type": "markdown",
   "metadata": {},
   "source": [
    "#Aircraft Sizing, Synthesis and Integration Support Tool (ASSIST)\n",
    "\n",
    "##References\n",
    "* Mattingly, J. D., Heiser, W. H., and Daley, D. H., \"Aircraft Engine Design,\" AIAA Education Series, AIAA, New York, NY, 1987.\n",
    "* Raymer, D. P., \"Aircraft Design: A Conceptual Approach,\" 3rd ed., AIAA Education Series, AIAA, Reston, VA, 1999.\n",
    "* Roskam, J., \"Airplane Design: Part I-VIII.\" DARcorporation, Lawrence, KS, 2006."
   ]
  },
  {
   "cell_type": "code",
   "execution_count": null,
   "metadata": {
    "collapsed": false
   },
   "outputs": [],
   "source": [
    "wing = Wing(flap_type='single_slot',\n",
    "            configuration='landing',\n",
    "            slats=True,\n",
    "            k_aero=0.75,\n",
    "            sweep=30,\n",
    "            flap_span=[0.2, 0.4],\n",
    "            taper_ratio=0.2)\n",
    "\n",
    "wing.takeoff\n",
    "print(\"TAKE-OFF CL_max:\", wing.cl_max)\n",
    "wing.landing\n",
    "print(\"LANDING CL_max:\", wing.cl_max)"
   ]
  },
  {
   "cell_type": "code",
   "execution_count": null,
   "metadata": {
    "collapsed": false
   },
   "outputs": [],
   "source": [
    "aircraft = Aircraft(wing=wing,\n",
    "                    stores=[Payload('Crew', 200),\n",
    "                            Payload('Cannon', 270),\n",
    "                            Payload('Ammunition Feed System', 405),\n",
    "                            Payload('Ammunition', 550),\n",
    "                            Payload('Casings', 198),\n",
    "                            Payload('AMRAAMs', 652),\n",
    "                            Payload('AIM-9Xs', 382)],\n",
    "                    cd_0=0.02)\n",
    "\n",
    "tofl = 1500\n",
    "airfield_altitude = 5000\n",
    "\n",
    "cruise_altitude = 35000\n",
    "cruise_range = 500\n",
    "\n",
    "dash_altitude = 4000\n",
    "dash_speed = 1500\n",
    "dash_range = 100\n",
    "\n",
    "ldgfl = 3500\n",
    "landing_speed = 150\n",
    "\n",
    "mission = [Segment('warmup', altitude=airfield_altitude, speed=0),\n",
    "           Segment('takeoff', altitude=airfield_altitude, speed=150, tofl=tofl, temperature_sl=100),\n",
    "           Segment('climb', altitude=airfield_altitude, speed=500),\n",
    "           Segment('cruise', altitude=cruise_altitude, speed=1050, range=cruise_range, release=[()]),\n",
    "           Segment('descend', altitude=dash_altitude, speed=1000),\n",
    "           Segment('dash', altitude=dash_altitude, speed=dash_speed, range=dash_range),\n",
    "           Segment('climb', altitude=cruise_altitude, speed=1000),\n",
    "           Segment('cruise', altitude=cruise_altitude, speed=1050, range=cruise_range),\n",
    "           Segment('descend', altitude=airfield_altitude, speed=1000),\n",
    "           Segment('land', altitude=airfield_altitude, speed=landing_speed, ldgfl=ldgfl)]"
   ]
  },
  {
   "cell_type": "code",
   "execution_count": null,
   "metadata": {
    "collapsed": false
   },
   "outputs": [],
   "source": [
    "aircraft.synthesize(mission)"
   ]
  },
  {
   "cell_type": "code",
   "execution_count": null,
   "metadata": {
    "collapsed": false
   },
   "outputs": [],
   "source": [
    "fig = figure(figsize=(16,8))\n",
    "ax = plot(aircraft.t_to_w_req)\n",
    "axis([0, 300, 0, 2])"
   ]
  },
  {
   "cell_type": "code",
   "execution_count": null,
   "metadata": {
    "collapsed": false
   },
   "outputs": [],
   "source": [
    "aircraft.fuel_fraction"
   ]
  },
  {
   "cell_type": "code",
   "execution_count": null,
   "metadata": {
    "collapsed": false
   },
   "outputs": [],
   "source": [
    "aircraft.size(mission)"
   ]
  },
  {
   "cell_type": "code",
   "execution_count": null,
   "metadata": {
    "collapsed": false
   },
   "outputs": [],
   "source": [
    "aircraft.w_to"
   ]
  },
  {
   "cell_type": "code",
   "execution_count": null,
   "metadata": {
    "collapsed": false
   },
   "outputs": [],
   "source": [
    "aircraft.engine.max_thrust"
   ]
  }
 ],
 "metadata": {
  "kernelspec": {
   "display_name": "Python 2",
   "language": "python",
   "name": "python2"
  },
  "language_info": {
   "codemirror_mode": {
    "name": "ipython",
    "version": 2
   },
   "file_extension": ".py",
   "mimetype": "text/x-python",
   "name": "python",
   "nbconvert_exporter": "python",
   "pygments_lexer": "ipython2",
   "version": "2.7.10"
  }
 },
 "nbformat": 4,
 "nbformat_minor": 0
}
